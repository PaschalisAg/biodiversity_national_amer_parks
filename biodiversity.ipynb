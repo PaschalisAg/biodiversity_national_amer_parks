{
 "cells": [
  {
   "cell_type": "markdown",
   "metadata": {},
   "source": [
    "# Data Scoping Section for Biodiversity Analysis\n",
    "\n",
    "The analysis in the provided notebook uses two datasets to explore biodiversity patterns and trends. Below is the scoping of the datasets:\n",
    "\n",
    "## **Dataset Descriptions**\n",
    "\n",
    "1. **`observations` Dataset**:\n",
    "   - **Purpose**: Records the number of species observations in various national parks.\n",
    "   - **Structure**:\n",
    "     - **Rows**: 23,296\n",
    "     - **Columns**: \n",
    "       - `scientific_name`: The species' scientific name.\n",
    "       - `park_name`: The national park where the species was observed.\n",
    "       - `observations`: Count of observations for the species in that park.\n",
    "   - **Key Characteristics**:\n",
    "     - No missing values in any column.\n",
    "     - Data is structured for geographic and frequency-based analysis of species.\n",
    "\n",
    "2. **`species_info` Dataset**:\n",
    "   - **Purpose**: Provides details about species classification and conservation.\n",
    "   - **Structure**:\n",
    "     - **Rows**: 5,824\n",
    "     - **Columns**:\n",
    "       - `category`: Taxonomic group of the species (e.g., Mammal, Bird).\n",
    "       - `scientific_name`: Unique biological name of the species.\n",
    "       - `common_names`: Common names or synonyms of the species.\n",
    "       - `conservation_status`: Conservation status (e.g., Endangered, Vulnerable); missing for most entries.\n",
    "   - **Key Characteristics**:\n",
    "     - Conservation status data is sparse, with only 191 non-null entries.\n",
    "\n",
    "---\n",
    "\n",
    "## **Scope of Analysis**\n",
    "- **Data Integration**:\n",
    "  - The datasets are linked via the `scientific_name` column to analyze species observations in the context of taxonomic information and conservation priorities.\n",
    "- **Geographic Coverage**:\n",
    "  - National parks listed in `park_name` column of the `observations` dataset.\n",
    "\n",
    "## **Data Preparation**\n",
    "1. **Cleaning**:\n",
    "   - Addressed missing data by focusing on available fields.\n",
    "   - Ensured consistency in `scientific_name` across both datasets.\n",
    "2. **Merging**:\n",
    "   - Combined datasets to enable multi-dimensional analysis of species frequency and conservation efforts.\n",
    "3. **Conservation Data Handling**:\n",
    "   - Although conservation status data is sparse, it was incorporated where available for critical species.\n",
    "\n",
    "---\n",
    "\n",
    "## **Limitations**\n",
    "- **Conservation Analysis**:\n",
    "  - Limited by sparse data in the `conservation_status` column.\n",
    "\n",
    "---\n",
    "\n",
    "## **Analytical Focus**\n",
    "The datasets enable:\n",
    "1. Regional biodiversity comparisons across national parks.\n",
    "2. Assessment of species richness and relative abundance.\n",
    "3. Identification of at-risk species using conservation status data.\n",
    "\n",
    "Would you like to include detailed insights from the notebook's analysis?"
   ]
  },
  {
   "cell_type": "code",
   "execution_count": 2,
   "metadata": {
    "ExecuteTime": {
     "end_time": "2023-05-21T16:43:21.768613Z",
     "start_time": "2023-05-21T16:43:20.934542Z"
    }
   },
   "outputs": [],
   "source": [
    "import pandas as pd\n",
    "import matplotlib.pyplot as plt\n",
    "import seaborn as sns\n",
    "sns.set_palette('colorblind')"
   ]
  },
  {
   "cell_type": "code",
   "execution_count": 3,
   "metadata": {},
   "outputs": [],
   "source": [
    "# make a directory to save the results\n",
    "import os\n",
    "os.makedirs('figures/', exist_ok=True)"
   ]
  },
  {
   "cell_type": "code",
   "execution_count": 4,
   "metadata": {
    "ExecuteTime": {
     "end_time": "2023-05-21T17:01:30.335032Z",
     "start_time": "2023-05-21T17:01:30.292813Z"
    }
   },
   "outputs": [
    {
     "data": {
      "text/html": [
       "<div>\n",
       "<style scoped>\n",
       "    .dataframe tbody tr th:only-of-type {\n",
       "        vertical-align: middle;\n",
       "    }\n",
       "\n",
       "    .dataframe tbody tr th {\n",
       "        vertical-align: top;\n",
       "    }\n",
       "\n",
       "    .dataframe thead th {\n",
       "        text-align: right;\n",
       "    }\n",
       "</style>\n",
       "<table border=\"1\" class=\"dataframe\">\n",
       "  <thead>\n",
       "    <tr style=\"text-align: right;\">\n",
       "      <th></th>\n",
       "      <th>scientific_name</th>\n",
       "      <th>park_name</th>\n",
       "      <th>observations</th>\n",
       "    </tr>\n",
       "  </thead>\n",
       "  <tbody>\n",
       "    <tr>\n",
       "      <th>20164</th>\n",
       "      <td>spiranthes lacera var. gracilis</td>\n",
       "      <td>yosemite national park</td>\n",
       "      <td>147</td>\n",
       "    </tr>\n",
       "    <tr>\n",
       "      <th>8980</th>\n",
       "      <td>galium lanceolatum</td>\n",
       "      <td>great smoky mountains national park</td>\n",
       "      <td>112</td>\n",
       "    </tr>\n",
       "    <tr>\n",
       "      <th>1647</th>\n",
       "      <td>gavia pacifica</td>\n",
       "      <td>yellowstone national park</td>\n",
       "      <td>220</td>\n",
       "    </tr>\n",
       "    <tr>\n",
       "      <th>11073</th>\n",
       "      <td>ivesia santolinoides</td>\n",
       "      <td>yellowstone national park</td>\n",
       "      <td>248</td>\n",
       "    </tr>\n",
       "    <tr>\n",
       "      <th>9019</th>\n",
       "      <td>lupinus stiversii</td>\n",
       "      <td>yellowstone national park</td>\n",
       "      <td>265</td>\n",
       "    </tr>\n",
       "  </tbody>\n",
       "</table>\n",
       "</div>"
      ],
      "text/plain": [
       "                       scientific_name                            park_name  \\\n",
       "20164  spiranthes lacera var. gracilis               yosemite national park   \n",
       "8980                galium lanceolatum  great smoky mountains national park   \n",
       "1647                    gavia pacifica            yellowstone national park   \n",
       "11073             ivesia santolinoides            yellowstone national park   \n",
       "9019                 lupinus stiversii            yellowstone national park   \n",
       "\n",
       "       observations  \n",
       "20164           147  \n",
       "8980            112  \n",
       "1647            220  \n",
       "11073           248  \n",
       "9019            265  "
      ]
     },
     "execution_count": 4,
     "metadata": {},
     "output_type": "execute_result"
    }
   ],
   "source": [
    "# load the data\n",
    "observations = pd.read_csv(\"data/observations.csv\")\n",
    "observations['scientific_name'] = observations['scientific_name'].str.lower()\n",
    "observations['park_name'] = observations['park_name'].str.lower()\n",
    "observations.sample(5)"
   ]
  },
  {
   "cell_type": "code",
   "execution_count": 18,
   "metadata": {},
   "outputs": [
    {
     "name": "stdout",
     "output_type": "stream",
     "text": [
      "<class 'pandas.core.frame.DataFrame'>\n",
      "RangeIndex: 23296 entries, 0 to 23295\n",
      "Data columns (total 3 columns):\n",
      " #   Column           Non-Null Count  Dtype \n",
      "---  ------           --------------  ----- \n",
      " 0   scientific_name  23296 non-null  object\n",
      " 1   park_name        23296 non-null  object\n",
      " 2   observations     23296 non-null  int64 \n",
      "dtypes: int64(1), object(2)\n",
      "memory usage: 546.1+ KB\n",
      "None\n"
     ]
    }
   ],
   "source": [
    "# Display the structure of the datasets\n",
    "observations_info = observations.info()\n",
    "print(observations_info)"
   ]
  },
  {
   "cell_type": "code",
   "execution_count": 5,
   "metadata": {
    "ExecuteTime": {
     "end_time": "2023-05-21T17:01:30.434872Z",
     "start_time": "2023-05-21T17:01:30.416776Z"
    },
    "scrolled": true
   },
   "outputs": [
    {
     "data": {
      "text/html": [
       "<div>\n",
       "<style scoped>\n",
       "    .dataframe tbody tr th:only-of-type {\n",
       "        vertical-align: middle;\n",
       "    }\n",
       "\n",
       "    .dataframe tbody tr th {\n",
       "        vertical-align: top;\n",
       "    }\n",
       "\n",
       "    .dataframe thead th {\n",
       "        text-align: right;\n",
       "    }\n",
       "</style>\n",
       "<table border=\"1\" class=\"dataframe\">\n",
       "  <thead>\n",
       "    <tr style=\"text-align: right;\">\n",
       "      <th></th>\n",
       "      <th>category</th>\n",
       "      <th>scientific_name</th>\n",
       "      <th>common_names</th>\n",
       "      <th>conservation_status</th>\n",
       "    </tr>\n",
       "  </thead>\n",
       "  <tbody>\n",
       "    <tr>\n",
       "      <th>4049</th>\n",
       "      <td>vascular plant</td>\n",
       "      <td>gayophytum racemosum</td>\n",
       "      <td>blackfoot groundsmoke, black-foot groundsmoke</td>\n",
       "      <td>NaN</td>\n",
       "    </tr>\n",
       "    <tr>\n",
       "      <th>5155</th>\n",
       "      <td>vascular plant</td>\n",
       "      <td>lotus strigosus</td>\n",
       "      <td>bishop's lotus, strigose bird's-foot trefoil, ...</td>\n",
       "      <td>NaN</td>\n",
       "    </tr>\n",
       "    <tr>\n",
       "      <th>516</th>\n",
       "      <td>fish</td>\n",
       "      <td>gambusia affinis</td>\n",
       "      <td>mosquitofish, western mosquitofish</td>\n",
       "      <td>NaN</td>\n",
       "    </tr>\n",
       "    <tr>\n",
       "      <th>5807</th>\n",
       "      <td>vascular plant</td>\n",
       "      <td>saxifraga oregana</td>\n",
       "      <td>box saxifrage, oregon saxifrage</td>\n",
       "      <td>NaN</td>\n",
       "    </tr>\n",
       "    <tr>\n",
       "      <th>2700</th>\n",
       "      <td>nonvascular plant</td>\n",
       "      <td>pohlia annotina</td>\n",
       "      <td>pohlia moss</td>\n",
       "      <td>NaN</td>\n",
       "    </tr>\n",
       "  </tbody>\n",
       "</table>\n",
       "</div>"
      ],
      "text/plain": [
       "               category       scientific_name  \\\n",
       "4049     vascular plant  gayophytum racemosum   \n",
       "5155     vascular plant       lotus strigosus   \n",
       "516                fish      gambusia affinis   \n",
       "5807     vascular plant     saxifraga oregana   \n",
       "2700  nonvascular plant       pohlia annotina   \n",
       "\n",
       "                                           common_names conservation_status  \n",
       "4049      blackfoot groundsmoke, black-foot groundsmoke                 NaN  \n",
       "5155  bishop's lotus, strigose bird's-foot trefoil, ...                 NaN  \n",
       "516                  mosquitofish, western mosquitofish                 NaN  \n",
       "5807                    box saxifrage, oregon saxifrage                 NaN  \n",
       "2700                                        pohlia moss                 NaN  "
      ]
     },
     "execution_count": 5,
     "metadata": {},
     "output_type": "execute_result"
    }
   ],
   "source": [
    "species = pd.read_csv(\"data/species_info.csv\")\n",
    "species['category'] = species['category'].str.lower()\n",
    "species['scientific_name'] = species['scientific_name'].str.lower()\n",
    "species['common_names'] = species['common_names'].str.lower()\n",
    "species['conservation_status'] = species['conservation_status'].str.lower()\n",
    "species.sample(5)"
   ]
  },
  {
   "cell_type": "code",
   "execution_count": 6,
   "metadata": {},
   "outputs": [
    {
     "name": "stdout",
     "output_type": "stream",
     "text": [
      "<class 'pandas.core.frame.DataFrame'>\n",
      "RangeIndex: 5824 entries, 0 to 5823\n",
      "Data columns (total 4 columns):\n",
      " #   Column               Non-Null Count  Dtype \n",
      "---  ------               --------------  ----- \n",
      " 0   category             5824 non-null   object\n",
      " 1   scientific_name      5824 non-null   object\n",
      " 2   common_names         5824 non-null   object\n",
      " 3   conservation_status  191 non-null    object\n",
      "dtypes: object(4)\n",
      "memory usage: 182.1+ KB\n",
      "None\n"
     ]
    }
   ],
   "source": [
    "species_info = species.info()\n",
    "print(species_info)"
   ]
  },
  {
   "cell_type": "code",
   "execution_count": 19,
   "metadata": {},
   "outputs": [],
   "source": [
    "observ_species_merged = pd.merge(\n",
    "    observations, species,\n",
    "    on='scientific_name',\n",
    "    how='inner'\n",
    ")\n",
    "# observ_species_merged.to_csv('data/merged_observations_species.csv', encoding='utf-8', index=False)"
   ]
  },
  {
   "cell_type": "code",
   "execution_count": 20,
   "metadata": {},
   "outputs": [
    {
     "data": {
      "image/png": "[encoded data removed]",
      "text/plain": [
       "<Figure size 640x480 with 1 Axes>"
      ]
     },
     "metadata": {},
     "output_type": "display_data"
    }
   ],
   "source": [
    "conserv_observ = (\n",
    "    observ_species_merged.groupby('conservation_status')['observations']\n",
    "    .sum()\n",
    "    .reset_index()\n",
    "    .sort_values(by='observations', ascending=False)\n",
    ")\n",
    "# conserv_observ.to_csv('data/conservation_status_observations.csv', encoding='utf-8', index=False)\n",
    "sns.barplot(\n",
    "    data=conserv_observ,\n",
    "    x='conservation_status',\n",
    "    y='observations',\n",
    "    hue='conservation_status'\n",
    ")\n",
    "plt.title('Number of Observations per Conservation Status', fontsize=16)\n",
    "plt.xlabel('Conservation Status', fontsize=12)\n",
    "plt.ylabel('Number of Observations', fontsize=12)\n",
    "plt.xticks(rotation=45)\n",
    "plt.tight_layout()\n",
    "plt.savefig('figures/observ_per_conserv_stat.png', dpi=500)\n",
    "plt.show()"
   ]
  },
  {
   "cell_type": "code",
   "execution_count": 9,
   "metadata": {},
   "outputs": [
    {
     "data": {
      "image/png": "[encoded data removed]",
      "text/plain": [
       "<Figure size 640x480 with 1 Axes>"
      ]
     },
     "metadata": {},
     "output_type": "display_data"
    }
   ],
   "source": [
    "conservation_critical = observ_species_merged[observ_species_merged['conservation_status'].notna()]\n",
    "conservation_status_per_park = conservation_critical.groupby(\n",
    "    ['park_name', 'conservation_status'])['observations'].sum().reset_index().sort_values(by='observations', ascending=False)\n",
    "\n",
    "sns.barplot(data=conservation_status_per_park,\n",
    "           x='observations',\n",
    "           y='park_name',\n",
    "           hue='conservation_status')\n",
    "# for i in range(len(conservation_status_per_park['conservation_status'])):\n",
    "    # plt.text(i, conservation_status_per_park.observations[i], conservation_status_per_park.observations[i], ha='center')\n",
    "plt.title('Conservation status observations per park')\n",
    "plt.xlabel('Number of observations')\n",
    "plt.ylabel('Park name')\n",
    "plt.legend()\n",
    "plt.tight_layout()\n",
    "plt.savefig('figures/conserv_stat_per_park.png', dpi=500)\n",
    "plt.show()"
   ]
  },
  {
   "cell_type": "code",
   "execution_count": 10,
   "metadata": {},
   "outputs": [
    {
     "data": {
      "image/png": "[encoded data removed]",
      "text/plain": [
       "<Figure size 1500x1000 with 4 Axes>"
      ]
     },
     "metadata": {},
     "output_type": "display_data"
    }
   ],
   "source": [
    "import matplotlib.pyplot as plt\n",
    "import seaborn as sns\n",
    "\n",
    "conservations_statuses_notna = observ_species_merged[observ_species_merged['conservation_status'].notna()]\n",
    "conservations_statuses = conservations_statuses_notna['conservation_status'].unique()\n",
    "\n",
    "# 2x2 grid\n",
    "fig, axes = plt.subplots(2, 2, figsize=(15, 10))\n",
    "axes = axes.flatten() # it's easier to iterate over the axes like this\n",
    "\n",
    "for idx, status in enumerate(conservations_statuses):\n",
    "    status_species = conservations_statuses_notna[conservations_statuses_notna['conservation_status'] == status]\n",
    "    status_cats = status_species.groupby('category')['scientific_name'].nunique().reset_index()\n",
    "    status_cats.columns = ['category', f'{status}_species_count']\n",
    "    status_cats = status_cats.sort_values(by=f'{status}_species_count', ascending=False).reset_index(drop=True)\n",
    "\n",
    "    ax = axes[idx]\n",
    "    sns.barplot(data=status_cats, x='category', y=f'{status}_species_count', hue='category', ax=ax, dodge=False)\n",
    "    \n",
    "    for i, row in status_cats.iterrows():\n",
    "        ax.text(i, row[f'{status}_species_count'], row[f'{status}_species_count'], ha='center')\n",
    "    ax.set_title(f'Species per Category with status: {status.capitalize()}')\n",
    "    ax.set_xlabel('Category')\n",
    "    ax.set_ylabel(f'Number of {status.capitalize()} Species')\n",
    "plt.tight_layout()\n",
    "plt.savefig('figures/species_per_category_status.png',dpi=500)\n",
    "plt.show()"
   ]
  },
  {
   "cell_type": "markdown",
   "metadata": {},
   "source": [
    "## Biodiversity across parks\n",
    "### Park-level statistics\n",
    "#### Number of Unique Species per Park\n",
    "\n",
    "We define unique species as the number of unique species given their scientific name."
   ]
  },
  {
   "cell_type": "code",
   "execution_count": 11,
   "metadata": {},
   "outputs": [
    {
     "data": {
      "text/html": [
       "<div>\n",
       "<style scoped>\n",
       "    .dataframe tbody tr th:only-of-type {\n",
       "        vertical-align: middle;\n",
       "    }\n",
       "\n",
       "    .dataframe tbody tr th {\n",
       "        vertical-align: top;\n",
       "    }\n",
       "\n",
       "    .dataframe thead th {\n",
       "        text-align: right;\n",
       "    }\n",
       "</style>\n",
       "<table border=\"1\" class=\"dataframe\">\n",
       "  <thead>\n",
       "    <tr style=\"text-align: right;\">\n",
       "      <th></th>\n",
       "      <th>park_name</th>\n",
       "      <th>unique_species_count</th>\n",
       "    </tr>\n",
       "  </thead>\n",
       "  <tbody>\n",
       "    <tr>\n",
       "      <th>0</th>\n",
       "      <td>bryce national park</td>\n",
       "      <td>5541</td>\n",
       "    </tr>\n",
       "    <tr>\n",
       "      <th>1</th>\n",
       "      <td>great smoky mountains national park</td>\n",
       "      <td>5541</td>\n",
       "    </tr>\n",
       "    <tr>\n",
       "      <th>2</th>\n",
       "      <td>yellowstone national park</td>\n",
       "      <td>5541</td>\n",
       "    </tr>\n",
       "    <tr>\n",
       "      <th>3</th>\n",
       "      <td>yosemite national park</td>\n",
       "      <td>5541</td>\n",
       "    </tr>\n",
       "  </tbody>\n",
       "</table>\n",
       "</div>"
      ],
      "text/plain": [
       "                             park_name  unique_species_count\n",
       "0                  bryce national park                  5541\n",
       "1  great smoky mountains national park                  5541\n",
       "2            yellowstone national park                  5541\n",
       "3               yosemite national park                  5541"
      ]
     },
     "execution_count": 11,
     "metadata": {},
     "output_type": "execute_result"
    }
   ],
   "source": [
    "unique_species_per_park = observ_species_merged.groupby(by='park_name')['scientific_name'].nunique().reset_index()\n",
    "unique_species_per_park.columns = ['park_name', 'unique_species_count']\n",
    "unique_species_per_park"
   ]
  },
  {
   "cell_type": "markdown",
   "metadata": {},
   "source": [
    "The results show that the parks in terms of the amount of unique species they have are balanced."
   ]
  },
  {
   "cell_type": "markdown",
   "metadata": {},
   "source": [
    "### Descriptive statistics of observations per park"
   ]
  },
  {
   "cell_type": "code",
   "execution_count": 12,
   "metadata": {},
   "outputs": [
    {
     "data": {
      "text/html": [
       "<div>\n",
       "<style scoped>\n",
       "    .dataframe tbody tr th:only-of-type {\n",
       "        vertical-align: middle;\n",
       "    }\n",
       "\n",
       "    .dataframe tbody tr th {\n",
       "        vertical-align: top;\n",
       "    }\n",
       "\n",
       "    .dataframe thead th {\n",
       "        text-align: right;\n",
       "    }\n",
       "</style>\n",
       "<table border=\"1\" class=\"dataframe\">\n",
       "  <thead>\n",
       "    <tr style=\"text-align: right;\">\n",
       "      <th></th>\n",
       "      <th>count</th>\n",
       "      <th>mean</th>\n",
       "      <th>std</th>\n",
       "      <th>min</th>\n",
       "      <th>25%</th>\n",
       "      <th>50%</th>\n",
       "      <th>75%</th>\n",
       "      <th>max</th>\n",
       "    </tr>\n",
       "    <tr>\n",
       "      <th>park_name</th>\n",
       "      <th></th>\n",
       "      <th></th>\n",
       "      <th></th>\n",
       "      <th></th>\n",
       "      <th></th>\n",
       "      <th></th>\n",
       "      <th></th>\n",
       "      <th></th>\n",
       "    </tr>\n",
       "  </thead>\n",
       "  <tbody>\n",
       "    <tr>\n",
       "      <th>bryce national park</th>\n",
       "      <td>6408.0</td>\n",
       "      <td>98.828184</td>\n",
       "      <td>20.816897</td>\n",
       "      <td>9.0</td>\n",
       "      <td>85.0</td>\n",
       "      <td>99.0</td>\n",
       "      <td>113.0</td>\n",
       "      <td>176.0</td>\n",
       "    </tr>\n",
       "    <tr>\n",
       "      <th>great smoky mountains national park</th>\n",
       "      <td>6408.0</td>\n",
       "      <td>74.104713</td>\n",
       "      <td>20.358297</td>\n",
       "      <td>10.0</td>\n",
       "      <td>60.0</td>\n",
       "      <td>74.0</td>\n",
       "      <td>88.0</td>\n",
       "      <td>147.0</td>\n",
       "    </tr>\n",
       "    <tr>\n",
       "      <th>yellowstone national park</th>\n",
       "      <td>6408.0</td>\n",
       "      <td>247.759207</td>\n",
       "      <td>23.436166</td>\n",
       "      <td>57.0</td>\n",
       "      <td>234.0</td>\n",
       "      <td>249.0</td>\n",
       "      <td>262.0</td>\n",
       "      <td>321.0</td>\n",
       "    </tr>\n",
       "    <tr>\n",
       "      <th>yosemite national park</th>\n",
       "      <td>6408.0</td>\n",
       "      <td>148.166667</td>\n",
       "      <td>21.378883</td>\n",
       "      <td>31.0</td>\n",
       "      <td>134.0</td>\n",
       "      <td>149.0</td>\n",
       "      <td>162.0</td>\n",
       "      <td>223.0</td>\n",
       "    </tr>\n",
       "  </tbody>\n",
       "</table>\n",
       "</div>"
      ],
      "text/plain": [
       "                                      count        mean        std   min  \\\n",
       "park_name                                                                  \n",
       "bryce national park                  6408.0   98.828184  20.816897   9.0   \n",
       "great smoky mountains national park  6408.0   74.104713  20.358297  10.0   \n",
       "yellowstone national park            6408.0  247.759207  23.436166  57.0   \n",
       "yosemite national park               6408.0  148.166667  21.378883  31.0   \n",
       "\n",
       "                                       25%    50%    75%    max  \n",
       "park_name                                                        \n",
       "bryce national park                   85.0   99.0  113.0  176.0  \n",
       "great smoky mountains national park   60.0   74.0   88.0  147.0  \n",
       "yellowstone national park            234.0  249.0  262.0  321.0  \n",
       "yosemite national park               134.0  149.0  162.0  223.0  "
      ]
     },
     "execution_count": 12,
     "metadata": {},
     "output_type": "execute_result"
    }
   ],
   "source": [
    "n_observ_per_park = observ_species_merged.groupby(by='park_name')['observations'].describe()\n",
    "n_observ_per_park"
   ]
  },
  {
   "cell_type": "markdown",
   "metadata": {},
   "source": [
    "### Park-Specific Summaries"
   ]
  },
  {
   "cell_type": "code",
   "execution_count": 21,
   "metadata": {},
   "outputs": [],
   "source": [
    "park_summary = observ_species_merged.groupby(by='park_name').agg(\n",
    "    total_species = ('scientific_name', 'nunique'),\n",
    "    total_observations = ('observations', 'sum'),\n",
    "    avg_observations = ('observations', 'mean'),\n",
    "    min_observations = ('observations', 'min'),\n",
    "    max_observations = ('observations', 'max')    \n",
    ").reset_index()\n",
    "# park_summary.to_csv('data/park_summary.csv', encoding='utf-8', index=False)"
   ]
  },
  {
   "cell_type": "code",
   "execution_count": 14,
   "metadata": {},
   "outputs": [
    {
     "data": {
      "text/html": [
       "<div>\n",
       "<style scoped>\n",
       "    .dataframe tbody tr th:only-of-type {\n",
       "        vertical-align: middle;\n",
       "    }\n",
       "\n",
       "    .dataframe tbody tr th {\n",
       "        vertical-align: top;\n",
       "    }\n",
       "\n",
       "    .dataframe thead th {\n",
       "        text-align: right;\n",
       "    }\n",
       "</style>\n",
       "<table border=\"1\" class=\"dataframe\">\n",
       "  <thead>\n",
       "    <tr style=\"text-align: right;\">\n",
       "      <th></th>\n",
       "      <th>park_name</th>\n",
       "      <th>total_species</th>\n",
       "      <th>total_observations</th>\n",
       "      <th>avg_observations</th>\n",
       "      <th>min_observations</th>\n",
       "      <th>max_observations</th>\n",
       "    </tr>\n",
       "  </thead>\n",
       "  <tbody>\n",
       "    <tr>\n",
       "      <th>0</th>\n",
       "      <td>bryce national park</td>\n",
       "      <td>5541</td>\n",
       "      <td>633291</td>\n",
       "      <td>98.828184</td>\n",
       "      <td>9</td>\n",
       "      <td>176</td>\n",
       "    </tr>\n",
       "    <tr>\n",
       "      <th>1</th>\n",
       "      <td>great smoky mountains national park</td>\n",
       "      <td>5541</td>\n",
       "      <td>474863</td>\n",
       "      <td>74.104713</td>\n",
       "      <td>10</td>\n",
       "      <td>147</td>\n",
       "    </tr>\n",
       "    <tr>\n",
       "      <th>2</th>\n",
       "      <td>yellowstone national park</td>\n",
       "      <td>5541</td>\n",
       "      <td>1587641</td>\n",
       "      <td>247.759207</td>\n",
       "      <td>57</td>\n",
       "      <td>321</td>\n",
       "    </tr>\n",
       "    <tr>\n",
       "      <th>3</th>\n",
       "      <td>yosemite national park</td>\n",
       "      <td>5541</td>\n",
       "      <td>949452</td>\n",
       "      <td>148.166667</td>\n",
       "      <td>31</td>\n",
       "      <td>223</td>\n",
       "    </tr>\n",
       "  </tbody>\n",
       "</table>\n",
       "</div>"
      ],
      "text/plain": [
       "                             park_name  total_species  total_observations  \\\n",
       "0                  bryce national park           5541              633291   \n",
       "1  great smoky mountains national park           5541              474863   \n",
       "2            yellowstone national park           5541             1587641   \n",
       "3               yosemite national park           5541              949452   \n",
       "\n",
       "   avg_observations  min_observations  max_observations  \n",
       "0         98.828184                 9               176  \n",
       "1         74.104713                10               147  \n",
       "2        247.759207                57               321  \n",
       "3        148.166667                31               223  "
      ]
     },
     "execution_count": 14,
     "metadata": {},
     "output_type": "execute_result"
    }
   ],
   "source": [
    "park_summary"
   ]
  },
  {
   "cell_type": "markdown",
   "metadata": {},
   "source": [
    "### Biodiversity Indices across parks\n",
    "#### Species richness\n",
    "It is one of the simplest biodeversity indices. Essentially, it refers to the total number of different species observed in a specific area. In our context, it is the number of unique species recorded in each park. It is also called the **alpha diversity**.\n",
    "#### Species evenness\n",
    "It measures how evenly distributed are species within a given ecosystem. Mathematically, is translated to the relative number of individuals of each species in a given area.\n",
    "#### Shannon-Wiener Diversity Index ($H'$)\n",
    "This is an index that measures both the species richness and evenness of species distribution.\n",
    "The formula to calculate Shannon-Wiener Diversity Index is:\n",
    "\n",
    "$$H'=-\\sum(p_i\\times ln(p_i))$$\n",
    "\n",
    "Where:\n",
    "- $p_i$ is the proportion of individuals belonging to the $i$-th species.\n",
    "\n",
    "This index increases with the number of species and the evenness of their distribution.\n",
    "\n",
    "### Diversity scale metrics\n",
    "#### Beta diversity\n",
    "**Beta diversity**"
   ]
  },
  {
   "cell_type": "code",
   "execution_count": 22,
   "metadata": {},
   "outputs": [
    {
     "data": {
      "text/html": [
       "<div>\n",
       "<style scoped>\n",
       "    .dataframe tbody tr th:only-of-type {\n",
       "        vertical-align: middle;\n",
       "    }\n",
       "\n",
       "    .dataframe tbody tr th {\n",
       "        vertical-align: top;\n",
       "    }\n",
       "\n",
       "    .dataframe thead th {\n",
       "        text-align: right;\n",
       "    }\n",
       "</style>\n",
       "<table border=\"1\" class=\"dataframe\">\n",
       "  <thead>\n",
       "    <tr style=\"text-align: right;\">\n",
       "      <th></th>\n",
       "      <th>park_name</th>\n",
       "      <th>species_richness</th>\n",
       "      <th>shannon_wiener_index</th>\n",
       "      <th>species_evenness</th>\n",
       "    </tr>\n",
       "  </thead>\n",
       "  <tbody>\n",
       "    <tr>\n",
       "      <th>0</th>\n",
       "      <td>bryce national park</td>\n",
       "      <td>5541</td>\n",
       "      <td>8.742310</td>\n",
       "      <td>1.014197</td>\n",
       "    </tr>\n",
       "    <tr>\n",
       "      <th>1</th>\n",
       "      <td>great smoky mountains national park</td>\n",
       "      <td>5541</td>\n",
       "      <td>8.725756</td>\n",
       "      <td>1.012277</td>\n",
       "    </tr>\n",
       "    <tr>\n",
       "      <th>2</th>\n",
       "      <td>yellowstone national park</td>\n",
       "      <td>5541</td>\n",
       "      <td>8.760403</td>\n",
       "      <td>1.016296</td>\n",
       "    </tr>\n",
       "    <tr>\n",
       "      <th>3</th>\n",
       "      <td>yosemite national park</td>\n",
       "      <td>5541</td>\n",
       "      <td>8.754435</td>\n",
       "      <td>1.015604</td>\n",
       "    </tr>\n",
       "  </tbody>\n",
       "</table>\n",
       "</div>"
      ],
      "text/plain": [
       "                             park_name  species_richness  \\\n",
       "0                  bryce national park              5541   \n",
       "1  great smoky mountains national park              5541   \n",
       "2            yellowstone national park              5541   \n",
       "3               yosemite national park              5541   \n",
       "\n",
       "   shannon_wiener_index  species_evenness  \n",
       "0              8.742310          1.014197  \n",
       "1              8.725756          1.012277  \n",
       "2              8.760403          1.016296  \n",
       "3              8.754435          1.015604  "
      ]
     },
     "execution_count": 22,
     "metadata": {},
     "output_type": "execute_result"
    }
   ],
   "source": [
    "import numpy as np\n",
    "import pandas as pd\n",
    "\n",
    "def calc_biodiversity(data):\n",
    "    \"\"\"\n",
    "    Calculate biodiversity metrics: species richness, Shannon-Wiener index, and species evenness.\n",
    "    \"\"\"\n",
    "    biodiversity_metrics = []\n",
    "\n",
    "    for park, group in data.groupby('park_name'):\n",
    "        # Calculate species richness | alpha diversity\n",
    "        species_richness = group['scientific_name'].nunique()\n",
    "\n",
    "        # Total number of observations for calculating proportions\n",
    "        total_observations = group['observations'].sum()\n",
    "\n",
    "        # Proportions for each species\n",
    "        group['proportion'] = group['observations'] / total_observations\n",
    "\n",
    "        # Shannon-Wiener index\n",
    "        group['p_ln_p'] = group['proportion'] * np.log(group['proportion'])\n",
    "        shannon_wiener_index = -group['p_ln_p'].sum()\n",
    "\n",
    "        # Species evenness: H' / ln(S)\n",
    "        species_evenness = shannon_wiener_index / np.log(species_richness) if species_richness > 1 else 0\n",
    "\n",
    "        # Append the metrics for the current park\n",
    "        biodiversity_metrics.append(\n",
    "            {\n",
    "                'park_name': park,\n",
    "                'species_richness': species_richness,\n",
    "                'shannon_wiener_index': shannon_wiener_index,\n",
    "                'species_evenness': species_evenness\n",
    "                \n",
    "            }\n",
    "        )\n",
    "        \n",
    "    return pd.DataFrame(biodiversity_metrics)\n",
    "\n",
    "biodiversity_metrics = calc_biodiversity(observ_species_merged)\n",
    "# biodiversity_metrics.to_csv('data/biodiversity_metrics.csv', encoding='utf-8', index=False)\n",
    "biodiversity_metrics"
   ]
  },
  {
   "cell_type": "markdown",
   "metadata": {},
   "source": [
    "### Findings\n",
    "The results indicate that all four parks have the same species richness (5,541), but their Shannon-Wiener Diversity Index (H') values differ slightly. Here's what can be concluded for each park:\n",
    "1. Species Richness:\n",
    "- Each park has the same species richness, meaning that the number of unique species recorded in all four parks is identical (5,541). This suggests that the parks have similar levels of biodiversity in terms of the variety of species.\n",
    "\n",
    "2. Shannon-Wiener Diversity Index (H'):\n",
    "As stated earlier, the Shannon-Wiener index reflects both species richness and the evenness of species distribution (how evenly species are represented). Here's what the values suggest:\n",
    "\n",
    "**Bryce National Park ($H'$ = $8.742$)**:\n",
    "- Slightly lower diversity compared to Yellowstone and Yosemite but similar to Great Smoky Mountains.\n",
    "- Indicates a relatively balanced distribution of species, but with some unevenness (e.g., a few dominant species).\n",
    "\n",
    "**Great Smoky Mountains National Park ($H'$ = $8.726$)**:\n",
    "- Marginally lower diversity than Bryce and significantly lower than Yellowstone and Yosemite.\n",
    "- Suggests that species in this park are less evenly distributed, with possibly more dominant species compared to the others.\n",
    "\n",
    "**Yellowstone National Park ($H'$ = $8.760$)**:\n",
    "- The highest diversity index among the parks.\n",
    "- Indicates the most even distribution of species, with no single species overly dominating the ecosystem.\n",
    "\n",
    "**Yosemite National Park ($H'$ = $8.754$)**:\n",
    "- Similar diversity to Yellowstone, slightly higher than Bryce and Great Smoky Mountains.\n",
    "- Suggests a well-balanced ecosystem with high biodiversity.\n",
    "\n",
    "3. Key Insights:\n",
    "\n",
    "**Evenness Drives H' Differences**:\n",
    "- The slight differences in $H'$ values are driven by how evenly species are distributed across the parks. Yellowstone has the most even distribution, while Great Smoky Mountains is slightly less balanced."
   ]
  },
  {
   "cell_type": "markdown",
   "metadata": {},
   "source": [
    "## Significance test (chi-square)\n",
    "- **Null hypothesis $(H_0)$**: There is no association between a species' category (e.g., bird, mammal) and its status (e.g., danger, safe).\n",
    "- **Alternative hypothesis $H_1$**: There is some association between category and status"
   ]
  },
  {
   "cell_type": "code",
   "execution_count": 17,
   "metadata": {},
   "outputs": [
    {
     "name": "stdout",
     "output_type": "stream",
     "text": [
      "Chi2: 14.321624234611669 p: 0.026242678018043204 dof: 6\n",
      "[[ 27.23636364   0.76363636]\n",
      " [338.50909091   9.49090909]\n",
      " [ 46.69090909   1.30909091]\n",
      " [225.67272727   6.32727273]\n",
      " [ 19.45454545   0.54545455]\n",
      " [ 19.45454545   0.54545455]\n",
      " [178.98181818   5.01818182]]\n"
     ]
    }
   ],
   "source": [
    "from scipy.stats import chi2_contingency\n",
    "observ_species_merged.dropna(inplace=True)\n",
    "# significance test\n",
    "def map_status(status):\n",
    "    if status in ['species of concern', 'endangered', 'threatened']:\n",
    "        return 'danger'\n",
    "    else:\n",
    "        return 'safe'\n",
    "\n",
    "observ_species_merged['status'] = observ_species_merged['conservation_status'].apply(map_status)\n",
    "\n",
    "contingency_table = pd.crosstab(observ_species_merged['category'],\n",
    "                                observ_species_merged['status'])\n",
    "\n",
    "chi2, p, dof, expected = chi2_contingency(contingency_table)\n",
    "print(\"Chi2:\", chi2, \"p:\", p, \"dof:\", dof)\n",
    "print(expected)"
   ]
  },
  {
   "cell_type": "markdown",
   "metadata": {},
   "source": [
    "### Findings\n",
    "Since $p\\approx0.026$ (less than than the conventional threshold of $0.05$), $H_0$ can be rejected. According to our data, we can observe some association between \"category\" and \"status\".\n",
    "\n",
    "However, the chi-square test can show us that an association exists, but it cannot tell us which categories are driving the significance. To check that we need to perform a post-hoc analysis by:\n",
    "\n",
    "1. comparing the observed vs the expected counts (`expected`)\n",
    "2. standardising the residuals for each cell: $StdRes=\\frac{(observed-expected)}{\\sqrt{expected}}$\n",
    "\n",
    "Assuming that residuals greater than about $+2$ or less than about $-2$ in absolute value are considered noteworthy.\n",
    "This post-hoc analysis will clarify which categories are more or less \"danger\" or \"safe\" than expected under the assumption of independence."
   ]
  },
  {
   "cell_type": "code",
   "execution_count": 18,
   "metadata": {},
   "outputs": [
    {
     "name": "stdout",
     "output_type": "stream",
     "text": [
      "status             danger   safe\n",
      "category                        \n",
      "amphibian           False  False\n",
      "bird                False  False\n",
      "fish                False  False\n",
      "mammal              False   True\n",
      "nonvascular plant   False  False\n",
      "reptile             False  False\n",
      "vascular plant      False   True\n",
      "status               danger      safe\n",
      "category                             \n",
      "amphibian          0.146323 -0.873863\n",
      "bird              -0.136374  0.814446\n",
      "fish               0.191582 -1.144155\n",
      "mammal            -0.377618  2.255193\n",
      "nonvascular plant  0.123665 -0.738549\n",
      "reptile            0.123665 -0.738549\n",
      "vascular plant     0.375096 -2.240130\n"
     ]
    }
   ],
   "source": [
    "# perform post-hoc analysis\n",
    "std_residuals = (contingency_table - expected) / np.sqrt(expected)\n",
    "significant_mask = (std_residuals > 2) | (std_residuals < -2)\n",
    "print(significant_mask)\n",
    "print(std_residuals)"
   ]
  },
  {
   "cell_type": "markdown",
   "metadata": {},
   "source": [
    "This analysis shows us that only two cells (i.e., `mammal, safe` and `vascular plant, safe`) stand out as \"significantly different from expected\".\n",
    "By looking at True does not tell us whether the observed counts is above or below the expected value, thus for mammals we have $2.255$ which means that their observed counts fall above the expected number, whereas for vascular plants we have $-2.240$ which means that their observed counts fall below the expected.\n",
    "\n",
    "To put these number in a context where we can undestand them we would say:\n",
    "\n",
    "- mammals have more safe individuals than expected under the null hypothesis\n",
    "- vascular plants have less safe individuals than expected under the null hypothesis.\n",
    "\n",
    "To sum up the findings, we conclude that we can observe an association between category and status (i.e., \"safe\", \"danger\") ($p\\approx.0.0262$). The two categories that drive this association are mammals which have more safe individuals than expected ($StdRes_{mammal}\\approx2.255$) and vascular plants which have less safe individuals than expected ($StdRes_{vascular\\ plant}\\approx-2.240$)."
   ]
  }
 ],
 "metadata": {
  "kernelspec": {
   "display_name": "Python 3 (ipykernel)",
   "language": "python",
   "name": "python3"
  },
  "language_info": {
   "codemirror_mode": {
    "name": "ipython",
    "version": 3
   },
   "file_extension": ".py",
   "mimetype": "text/x-python",
   "name": "python",
   "nbconvert_exporter": "python",
   "pygments_lexer": "ipython3",
   "version": "3.11.8"
  },
  "toc": {
   "base_numbering": 1,
   "nav_menu": {},
   "number_sections": true,
   "sideBar": true,
   "skip_h1_title": false,
   "title_cell": "Table of Contents",
   "title_sidebar": "Contents",
   "toc_cell": false,
   "toc_position": {},
   "toc_section_display": true,
   "toc_window_display": false
  },
  "varInspector": {
   "cols": {
    "lenName": 16,
    "lenType": 16,
    "lenVar": 40
   },
   "kernels_config": {
    "python": {
     "delete_cmd_postfix": "",
     "delete_cmd_prefix": "del ",
     "library": "var_list.py",
     "varRefreshCmd": "print(var_dic_list())"
    },
    "r": {
     "delete_cmd_postfix": ") ",
     "delete_cmd_prefix": "rm(",
     "library": "var_list.r",
     "varRefreshCmd": "cat(var_dic_list()) "
    }
   },
   "types_to_exclude": [
    "module",
    "function",
    "builtin_function_or_method",
    "instance",
    "_Feature"
   ],
   "window_display": false
  }
 },
 "nbformat": 4,
 "nbformat_minor": 4
}
