


import pandas as pd
import matplotlib.pyplot as plt
import seaborn as sns
sns.set_palette('colorblind')


# load the data
observations = pd.read_csv("observations.csv")
observations['scientific_name'] = observations['scientific_name'].str.lower()
observations['park_name'] = observations['park_name'].str.lower()
observations.sample(5)


species = pd.read_csv("species_info.csv")
species['category'] = species['category'].str.lower()
species['scientific_name'] = species['scientific_name'].str.lower()
species['common_names'] = species['common_names'].str.lower()
species['conservation_status'] = species['conservation_status'].str.lower()
species.sample(5)


observ_species_merged = pd.merge(
    observations, species,
    on='scientific_name',
    how='inner'
)





conserv_observ = observ_species_merged.groupby(
    'conservation_status')['observations'].sum().reset_index()# .sort_values(by='observations', ascending=False)
sns.barplot(data=conserv_observ,
           x='conservation_status',
           y='observations',
           hue='conservation_status')
for i in range(len(conserv_observ['conservation_status'])):
    plt.text(i, conserv_observ.observations[i], conserv_observ.observations[i], ha='center')
    
plt.title('Number of observations per Conservation Status')
plt.xlabel('Conservation Status')
plt.ylabel('Number of observations')
plt.tight_layout()
plt.show()


conservation_critical = observ_species_merged[observ_species_merged['conservation_status'].notna()]
conservation_status_per_park = conservation_critical.groupby(
    ['park_name', 'conservation_status'])['observations'].sum().reset_index().sort_values(by='observations', ascending=False)

sns.barplot(data=conservation_status_per_park,
           x='observations',
           y='park_name',
           hue='conservation_status')
# for i in range(len(conservation_status_per_park['conservation_status'])):
    # plt.text(i, conservation_status_per_park.observations[i], conservation_status_per_park.observations[i], ha='center')
plt.title('Conservation status observations per park')
plt.xlabel('Number of observations')
plt.ylabel('Park name')
plt.legend()
plt.tight_layout()
plt.show()


conservations_statuses_notna.head(5)


conservations_statuses_notna = observ_species_merged[observ_species_merged['conservation_status'].notna()]
conservations_statuses = conservations_statuses_notna['conservation_status'].unique()

for status in conservations_statuses:
    status_species = conservations_statuses_notna[conservations_statuses_notna['conservation_status'] == status]
    status_cats = status_species.groupby('category')['scientific_name'].nunique().reset_index()
    status_cats.columns = ['category', f'{status}_species_count']
    # sort (optional though | only for viz. purposes)
    status_cats = status_cats.sort_values(by=f'{status}_species_count', ascending=False)
    
    plt.figure(figsize=(10,6))
    sns.barplot(data=status_cats, x='category', y=f'{status}_species_count', hue='category', dodge=False)
    for i in range(len())
    plt.title(f'Species per Category with status: {status.capitalize()}')
    plt.xlabel('Category')
    plt.ylabel(f'Number of {status.capitalize()} Species')
    plt.tight_layout()
    plt.show()





unique_species_per_park = observ_species_merged.groupby(by='park_name')['scientific_name'].nunique().reset_index()
unique_species_per_park.columns = ['park_name', 'unique_species_count']
unique_species_per_park








n_observ_per_park = observ_species_merged.groupby(by='park_name')['observations'].describe()
n_observ_per_park





park_summary = observ_species_merged.groupby(by='park_name').agg(
    total_species = ('scientific_name', 'nunique'),
    total_observations = ('observations', 'sum'),
    avg_observations = ('observations', 'mean'),
    min_observations = ('observations', 'min'),
    max_observations = ('observations', 'max')    
).reset_index()


park_summary





import numpy as np
import pandas as pd

def calc_biodiversity(data):
    """
    Calculate biodiversity metrics: species richness, Shannon-Wiener index, and species evenness.
    """
    biodiversity_metrics = []

    for park, group in data.groupby('park_name'):
        # Calculate species richness
        species_richness = group['scientific_name'].nunique()

        # Total number of observations for calculating proportions
        total_observations = group['observations'].sum()

        # Proportions for each species
        group['proportion'] = group['observations'] / total_observations

        # Shannon-Wiener index
        group['p_ln_p'] = group['proportion'] * np.log(group['proportion'])
        shannon_wiener_index = -group['p_ln_p'].sum()

        # Species evenness: H' / ln(S)
        species_evenness = shannon_wiener_index / np.log(species_richness) if species_richness > 1 else 0

        # Append the metrics for the current park
        biodiversity_metrics.append(
            {
                'park_name': park,
                'species_richness': species_richness,
                'shannon_wiener_index': shannon_wiener_index,
                'species_evenness': species_evenness
                
            }
        )
        
    return pd.DataFrame(biodiversity_metrics)

calc_biodiversity(observ_species_merged)





species = observ_species_merged['scientific_name'].unique()


species = ','.join(species)


species



